{
 "cells": [
  {
   "cell_type": "code",
   "execution_count": 1,
   "metadata": {
    "collapsed": false,
    "deletable": true,
    "editable": true
   },
   "outputs": [],
   "source": [
    "from concepts import Context, Definition\n",
    "import pandas as pd\n",
    "import sys\n",
    "import itertools as itt\n",
    "\n",
    "def transform_nominal(dataframe, col_name, col_values):\n",
    "    for value in col_values:\n",
    "        dataframe[col_name + '_' + value] = dataframe[col_name].apply(lambda x: 'X' if str(x) == value else None)\n",
    "    del dataframe[col_name]\n",
    "    \n",
    "def transform_counternominal(dataframe, col_name, col_values):\n",
    "    for value in col_values:\n",
    "        dataframe[col_name + '_' + value] = dataframe[col_name].apply(lambda x: None if str(x) == value else 'X')\n",
    "    del dataframe[col_name]\n",
    "    \n",
    "def transform_ordinal(dataframe, col_name, col_values):\n",
    "    dataframe[col_name] = dataframe[col_name].apply(lambda x: col_values.index(str(x)))\n",
    "    for i in xrange(len(col_values)):\n",
    "        dataframe[col_name + '_<=' + col_values[i]] = dataframe[col_name].apply(lambda x: 'X' if x <= i else None)\n",
    "    del dataframe[col_name]\n",
    "    \n",
    "def transform_interval(dataframe, col_name, col_values):\n",
    "    dataframe[col_name] = dataframe[col_name].apply(lambda x: col_values.index(str(x)))\n",
    "    for i in xrange(len(col_values)):\n",
    "        dataframe[col_name + '_<=' + col_values[i]] = dataframe[col_name].apply(lambda x: 'X' if x <= i else None)\n",
    "    for i in xrange(len(col_values)):\n",
    "        dataframe[col_name + '_>=' + col_values[i]] = dataframe[col_name].apply(lambda x: 'X' if x >= i else None)\n",
    "    del dataframe[col_name]\n",
    "    \n",
    "def transform_column(dataframe, col_name, col_type):\n",
    "    if (col_type[0] == 'Nominal'):\n",
    "        transform_nominal(dataframe, col_name, col_type[1].split(';'))\n",
    "    elif (col_type[0] == 'Counternominal'):\n",
    "        transform_counternominal(dataframe, col_name, col_type[1].split(';'))\n",
    "    elif (col_type[0] == 'Ordinal'):\n",
    "        transform_ordinal(dataframe, col_name, col_type[1].split(';'))\n",
    "    elif (col_type[0] == 'Interval'):\n",
    "        transform_interval(dataframe, col_name, col_type[1].split(';'))\n",
    "\n",
    "def transform_columns(dataframe, col_defs):\n",
    "    dataframe.columns = ([''] + list(dataframe.columns[1:]))\n",
    "    for i, col in enumerate(dataframe.columns):\n",
    "        if ((i == 0) or not (col in col_defs)):\n",
    "            continue\n",
    "        transform_column(dataframe, col, col_defs[col])\n",
    "\n",
    "def build_iceberg_lattice(filename, lattice, threshold):\n",
    "    irreducable = []\n",
    "    for i, (intent, extent) in enumerate(lattice):\n",
    "        coverage = list(intent)\n",
    "        if (len(intent) < threshold):\n",
    "            continue\n",
    "        is_irreducable = True\n",
    "        for j, (intent1, extent1) in enumerate(lattice):\n",
    "            if (j == i or len(intent1) < threshold or len(intent) <= len(intent1)):\n",
    "                continue\n",
    "            is_subset = True\n",
    "            for obj in intent1:\n",
    "                if (not(obj in intent)):\n",
    "                    is_subset = False\n",
    "                    break\n",
    "            if is_subset:\n",
    "                for obj in intent1:\n",
    "                    if obj in coverage:\n",
    "                        coverage.remove(obj)\n",
    "                if (len(coverage) == 0):\n",
    "                    is_irreducable = False\n",
    "                    break\n",
    "        if is_irreducable:\n",
    "            irreducable.append((intent, extent))\n",
    "            #print intent, extent\n",
    "            #print '\\n'\n",
    "    df = Definition()\n",
    "    for intent, extent in irreducable:\n",
    "        obj_name = ';'.join(intent)\n",
    "        df.add_object(obj_name, list(extent))\n",
    "    conc = Context(*df)\n",
    "    conc.tofile(filename='iceberg.' + filename, frmat='csv')\n",
    "    \n",
    "def print_lattice(cont):\n",
    "    for extent, intent in cont.lattice:\n",
    "        print('%r %r' % (extent, intent))\n",
    "        \n",
    "def is_sublist(parent, child):\n",
    "    for el in child:\n",
    "        if not(el in parent):\n",
    "            return False\n",
    "    return True\n",
    "        \n",
    "def find_implication_basis(cont):\n",
    "    pseudointents = []\n",
    "    props = list(cont.properties)\n",
    "    j = 1\n",
    "    for i in xrange(1, len(props)):\n",
    "        for subset in itt.combinations(props, i):\n",
    "            #Checking first pseudointent condition\n",
    "            subset = list(subset)\n",
    "            #print str(j) + \" \" + str(subset)\n",
    "            j += 1\n",
    "            extension = list(cont.extension(subset))\n",
    "            intension = list(cont.intension(extension))\n",
    "            if (len(subset) >= len(intension)):\n",
    "                #print \"Rejected first: \" + str((subset, extension))\n",
    "                continue\n",
    "                \n",
    "            #checking second pseudointent condition\n",
    "            second_passed = True\n",
    "            for conf_intent, conf_extent in pseudointents:\n",
    "                if (is_sublist(subset, conf_intent) and (not is_sublist(subset, conf_extent))):\n",
    "                    #print \"Rejected second: \" + str((subset, extension))\n",
    "                    second_passed = False\n",
    "            if second_passed:\n",
    "                pseudointents.append((subset, intension))\n",
    "    for t in pseudointents:\n",
    "        print t\n",
    "            "
   ]
  },
  {
   "cell_type": "code",
   "execution_count": 2,
   "metadata": {
    "collapsed": true,
    "deletable": true,
    "editable": true
   },
   "outputs": [],
   "source": [
    "filename = 'zoo.csv'\n",
    "iceberg_threshold = 70\n",
    "draw_iceberg = True\n",
    "cols_to_use= []"
   ]
  },
  {
   "cell_type": "code",
   "execution_count": 3,
   "metadata": {
    "collapsed": false,
    "deletable": true,
    "editable": true
   },
   "outputs": [
    {
     "name": "stdout",
     "output_type": "stream",
     "text": [
      "101\n",
      "100\n",
      "(['breathes'], ['breathes', 'legs_<=8'])\n",
      "(['legs_<=4'], ['legs_<=4', 'legs_<=5', 'legs_<=6', 'legs_<=8'])\n",
      "(['legs_<=5'], ['legs_<=5', 'legs_<=6', 'legs_<=8'])\n",
      "(['legs_<=6'], ['legs_<=6', 'legs_<=8'])\n",
      "(['backbone'], ['legs_<=4', 'legs_<=5', 'legs_<=6', 'legs_<=8', 'backbone'])\n",
      "(['tail'], ['legs_<=8', 'tail'])\n",
      "(['breathes', 'legs_<=8', 'tail'], ['breathes', 'legs_<=4', 'legs_<=5', 'legs_<=6', 'legs_<=8', 'backbone', 'tail'])\n",
      "(['legs_<=6', 'legs_<=8', 'tail'], ['legs_<=4', 'legs_<=5', 'legs_<=6', 'legs_<=8', 'backbone', 'tail'])\n",
      "(['breathes', 'legs_<=5', 'legs_<=6', 'legs_<=8'], ['breathes', 'legs_<=4', 'legs_<=5', 'legs_<=6', 'legs_<=8'])\n",
      "(['breathes', 'legs_<=4', 'legs_<=5', 'legs_<=6', 'legs_<=8', 'backbone'], ['breathes', 'legs_<=4', 'legs_<=5', 'legs_<=6', 'legs_<=8', 'backbone', 'tail'])\n"
     ]
    }
   ],
   "source": [
    "dataframe = pd.read_csv(filename)\n",
    "if (len(cols_to_use) > 0):\n",
    "    dataframe = dataframe[[dataframe.columns[0]] + cols_to_use]\n",
    "col_info = pd.read_csv('cols.' + filename)\n",
    "transform_columns(dataframe, col_info)\n",
    "print len(dataframe)\n",
    "dataframe = dataframe.drop_duplicates(subset=list(dataframe.columns[0:1]), keep='first')\n",
    "print len(dataframe)\n",
    "dataframe.to_csv('transformed.' + filename, index_label=False, index=False)\n",
    "\n",
    "context = Context.fromfile('transformed.' + filename, frmat='csv')\n",
    "lattice_str = str(context.lattice.graphviz())\n",
    "f = open('lattice.dot', 'w')\n",
    "f.write(lattice_str)\n",
    "f.close()\n",
    "context.lattice.graphviz(view=True)\n",
    "\n",
    "build_iceberg_lattice(filename, context.lattice, iceberg_threshold)\n",
    "iceberg_context = Context.fromfile(filename='iceberg.' + filename, frmat='csv')\n",
    "iceberg_context.lattice.graphviz(view=True)\n",
    "\n",
    "lattice_str = str(iceberg_context.lattice.graphviz())\n",
    "f = open('iceberg.dot', 'w')\n",
    "f.write(lattice_str)\n",
    "f.close()\n",
    "iceberg_context.lattice.graphviz(view=True)\n",
    "\n",
    "find_implication_basis(iceberg_context)"
   ]
  },
  {
   "cell_type": "code",
   "execution_count": 96,
   "metadata": {
    "collapsed": false,
    "deletable": true,
    "editable": true
   },
   "outputs": [
    {
     "name": "stdout",
     "output_type": "stream",
     "text": [
      "[(1, 2, 3)]\n"
     ]
    }
   ],
   "source": [
    "print list(itt.combinations([1,2,3], 3))"
   ]
  },
  {
   "cell_type": "code",
   "execution_count": 21,
   "metadata": {
    "collapsed": false,
    "deletable": true,
    "editable": true
   },
   "outputs": [
    {
     "name": "stdout",
     "output_type": "stream",
     "text": [
      "('f1', 'f2', 'f3', 'f4', 'f5')\n",
      "['f2']\n",
      "['b', 'c', 'd']\n"
     ]
    }
   ],
   "source": [
    "print context.properties\n",
    "abc = list(context.intension(['b', 'c']))\n",
    "print abc\n",
    "print list(context.extension(abc))"
   ]
  },
  {
   "cell_type": "code",
   "execution_count": 97,
   "metadata": {
    "collapsed": false,
    "deletable": true,
    "editable": true
   },
   "outputs": [
    {
     "name": "stdout",
     "output_type": "stream",
     "text": [
      "True\n",
      "False\n",
      "True\n"
     ]
    }
   ],
   "source": [
    "print is_sublist(['a', 'b', 'c'],['b', 'c'])\n",
    "print is_sublist(['a', 'b', 'c'],['b', 'c', 'd'])\n",
    "print is_sublist(['a', 'b', 'c'],['b', 'c']) and not(is_sublist(['a', 'b', 'c'],['b', 'c', 'd']))"
   ]
  },
  {
   "cell_type": "code",
   "execution_count": null,
   "metadata": {
    "collapsed": true,
    "deletable": true,
    "editable": true
   },
   "outputs": [],
   "source": []
  }
 ],
 "metadata": {
  "kernelspec": {
   "display_name": "Python 2",
   "language": "python",
   "name": "python2"
  },
  "language_info": {
   "codemirror_mode": {
    "name": "ipython",
    "version": 2
   },
   "file_extension": ".py",
   "mimetype": "text/x-python",
   "name": "python",
   "nbconvert_exporter": "python",
   "pygments_lexer": "ipython2",
   "version": "2.7.13"
  }
 },
 "nbformat": 4,
 "nbformat_minor": 2
}
