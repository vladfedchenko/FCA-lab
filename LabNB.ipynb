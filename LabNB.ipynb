{
 "cells": [
  {
   "cell_type": "code",
   "execution_count": 1,
   "metadata": {
    "collapsed": true
   },
   "outputs": [],
   "source": [
    "from concepts import Context, Definition\n",
    "import pandas as pd\n",
    "import sys\n",
    "\n",
    "def transform_nominal(dataframe, col_name, col_values):\n",
    "    for value in col_values:\n",
    "        dataframe[col_name + '_' + value] = dataframe[col_name].apply(lambda x: 'X' if x == value else None)\n",
    "    del dataframe[col_name]\n",
    "    \n",
    "def transform_counternominal(dataframe, col_name, col_values):\n",
    "    for value in col_values:\n",
    "        dataframe[col_name + '_' + value] = dataframe[col_name].apply(lambda x: None if x == value else 'X')\n",
    "    del dataframe[col_name]\n",
    "    \n",
    "def transform_ordinal(dataframe, col_name, col_values):\n",
    "    dataframe[col_name] = dataframe[col_name].apply(lambda x: col_values.index(x))\n",
    "    for i in xrange(len(col_values)):\n",
    "        dataframe[col_name + '_<=' + col_values[i]] = dataframe[col_name].apply(lambda x: 'X' if x <= i else None)\n",
    "    del dataframe[col_name]\n",
    "    \n",
    "def transform_interval(dataframe, col_name, col_values):\n",
    "    dataframe[col_name] = dataframe[col_name].apply(lambda x: col_values.index(x))\n",
    "    for i in xrange(len(col_values)):\n",
    "        dataframe[col_name + '_<=' + col_values[i]] = dataframe[col_name].apply(lambda x: 'X' if x <= i else None)\n",
    "    for i in xrange(len(col_values)):\n",
    "        dataframe[col_name + '_>=' + col_values[i]] = dataframe[col_name].apply(lambda x: 'X' if x >= i else None)\n",
    "    del dataframe[col_name]\n",
    "    \n",
    "def transform_column(dataframe, col_name, col_type):\n",
    "    if (col_type[0] == 'Nominal'):\n",
    "        transform_nominal(dataframe, col_name, col_type[1].split(';'))\n",
    "    elif (col_type[0] == 'Counternominal'):\n",
    "        transform_counternominal(dataframe, col_name, col_type[1].split(';'))\n",
    "    elif (col_type[0] == 'Ordinal'):\n",
    "        transform_ordinal(dataframe, col_name, col_type[1].split(';'))\n",
    "    elif (col_type[0] == 'Interval'):\n",
    "        transform_interval(dataframe, col_name, col_type[1].split(';'))\n",
    "\n",
    "def transform_columns(dataframe, col_defs):\n",
    "    dataframe.columns = ([''] + list(dataframe.columns[1:]))\n",
    "    for i, col in enumerate(dataframe.columns):\n",
    "        if (i == 0):\n",
    "            continue\n",
    "        transform_column(dataframe, col, col_defs[col])\n",
    "\n",
    "def build_iceberg_lattice(filename, lattice, threshold):\n",
    "    irreducable = []\n",
    "    for i, (intent, extent) in enumerate(lattice):\n",
    "        if (len(intent) < threshold):\n",
    "            continue\n",
    "        is_irreducable = True\n",
    "        for j, (intent1, extent1) in enumerate(lattice):\n",
    "            if (j == i or len(intent1) < threshold or len(intent) <= len(intent1)):\n",
    "                continue\n",
    "            is_subset = True\n",
    "            for obj in intent1:\n",
    "                if (not(obj in intent)):\n",
    "                    is_subset = False\n",
    "                    break\n",
    "            if is_subset:\n",
    "                is_irreducable = False\n",
    "                break\n",
    "        if is_irreducable:\n",
    "            irreducable.append((intent, extent))\n",
    "            #print intent, extent\n",
    "            #print '\\n'\n",
    "    df = Definition()\n",
    "    for intent, extent in irreducable:\n",
    "        obj_name = ';'.join(intent)\n",
    "        df.add_object(obj_name, list(extent))\n",
    "    conc = Context(*df)\n",
    "    conc.tofile(filename='iceberg.' + filename, frmat='csv')"
   ]
  },
  {
   "cell_type": "code",
   "execution_count": 4,
   "metadata": {
    "collapsed": true
   },
   "outputs": [],
   "source": [
    "filename = 'lect.csv'\n",
    "iceberg_threshold = 3\n",
    "draw_iceberg = True\n",
    "cols_to_use= []"
   ]
  },
  {
   "cell_type": "code",
   "execution_count": 5,
   "metadata": {
    "collapsed": true
   },
   "outputs": [],
   "source": [
    "dataframe = pd.read_csv(filename)\n",
    "if (len(cols_to_use) > 0):\n",
    "    dataframe = dataframe[[dataframe.columns[0]] + cols_to_use]\n",
    "col_info = pd.read_csv('cols.' + filename)\n",
    "transform_columns(dataframe, col_info)\n",
    "dataframe.to_csv('trasformed.' + filename, index_label=False, index=False)\n",
    "\n",
    "context = Context.fromfile('trasformed.' + filename, frmat='csv')\n",
    "lattice_str = str(context.lattice.graphviz())\n",
    "f = open('lattice.dot', 'w')\n",
    "f.write(lattice_str)\n",
    "f.close()\n",
    "context.lattice.graphviz()\n",
    "\n",
    "build_iceberg_lattice(filename, context.lattice, iceberg_threshold)\n",
    "iceberg_context = Context.fromfile(filename='iceberg.' + filename, frmat='csv')\n",
    "iceberg_context.lattice.graphviz()\n",
    "\n",
    "lattice_str = str(iceberg_context.lattice.graphviz())\n",
    "f = open('iceberg.dot', 'w')\n",
    "f.write(lattice_str)\n",
    "f.close()"
   ]
  },
  {
   "cell_type": "code",
   "execution_count": null,
   "metadata": {
    "collapsed": true
   },
   "outputs": [],
   "source": []
  }
 ],
 "metadata": {
  "kernelspec": {
   "display_name": "Python 2",
   "language": "python",
   "name": "python2"
  },
  "language_info": {
   "codemirror_mode": {
    "name": "ipython",
    "version": 2
   },
   "file_extension": ".py",
   "mimetype": "text/x-python",
   "name": "python",
   "nbconvert_exporter": "python",
   "pygments_lexer": "ipython2",
   "version": "2.7.13"
  }
 },
 "nbformat": 4,
 "nbformat_minor": 2
}
